{
 "cells": [
  {
   "cell_type": "markdown",
   "id": "51c137e2-5892-4221-8b8f-72ded402ec4a",
   "metadata": {},
   "source": [
    "# run  network/arch 路径下"
   ]
  },
  {
   "cell_type": "code",
   "execution_count": 9,
   "id": "bb29cb0f-0a16-4587-9c39-14626ed86318",
   "metadata": {},
   "outputs": [
    {
     "name": "stdout",
     "output_type": "stream",
     "text": [
      "Looking in indexes: http://mirrors.aliyun.com/pypi/simple\n",
      "Requirement already satisfied: thop in /root/miniconda3/lib/python3.12/site-packages (0.1.1.post2209072238)\n",
      "Requirement already satisfied: torch in /root/miniconda3/lib/python3.12/site-packages (from thop) (2.3.0+cu121)\n",
      "Requirement already satisfied: filelock in /root/miniconda3/lib/python3.12/site-packages (from torch->thop) (3.14.0)\n",
      "Requirement already satisfied: typing-extensions>=4.8.0 in /root/miniconda3/lib/python3.12/site-packages (from torch->thop) (4.12.1)\n",
      "Requirement already satisfied: sympy in /root/miniconda3/lib/python3.12/site-packages (from torch->thop) (1.12.1)\n",
      "Requirement already satisfied: networkx in /root/miniconda3/lib/python3.12/site-packages (from torch->thop) (3.3)\n",
      "Requirement already satisfied: jinja2 in /root/miniconda3/lib/python3.12/site-packages (from torch->thop) (3.1.4)\n",
      "Requirement already satisfied: fsspec in /root/miniconda3/lib/python3.12/site-packages (from torch->thop) (2024.5.0)\n",
      "Requirement already satisfied: nvidia-cuda-nvrtc-cu12==12.1.105 in /root/miniconda3/lib/python3.12/site-packages (from torch->thop) (12.1.105)\n",
      "Requirement already satisfied: nvidia-cuda-runtime-cu12==12.1.105 in /root/miniconda3/lib/python3.12/site-packages (from torch->thop) (12.1.105)\n",
      "Requirement already satisfied: nvidia-cuda-cupti-cu12==12.1.105 in /root/miniconda3/lib/python3.12/site-packages (from torch->thop) (12.1.105)\n",
      "Requirement already satisfied: nvidia-cudnn-cu12==8.9.2.26 in /root/miniconda3/lib/python3.12/site-packages (from torch->thop) (8.9.2.26)\n",
      "Requirement already satisfied: nvidia-cublas-cu12==12.1.3.1 in /root/miniconda3/lib/python3.12/site-packages (from torch->thop) (12.1.3.1)\n",
      "Requirement already satisfied: nvidia-cufft-cu12==11.0.2.54 in /root/miniconda3/lib/python3.12/site-packages (from torch->thop) (11.0.2.54)\n",
      "Requirement already satisfied: nvidia-curand-cu12==10.3.2.106 in /root/miniconda3/lib/python3.12/site-packages (from torch->thop) (10.3.2.106)\n",
      "Requirement already satisfied: nvidia-cusolver-cu12==11.4.5.107 in /root/miniconda3/lib/python3.12/site-packages (from torch->thop) (11.4.5.107)\n",
      "Requirement already satisfied: nvidia-cusparse-cu12==12.1.0.106 in /root/miniconda3/lib/python3.12/site-packages (from torch->thop) (12.1.0.106)\n",
      "Requirement already satisfied: nvidia-nccl-cu12==2.20.5 in /root/miniconda3/lib/python3.12/site-packages (from torch->thop) (2.20.5)\n",
      "Requirement already satisfied: nvidia-nvtx-cu12==12.1.105 in /root/miniconda3/lib/python3.12/site-packages (from torch->thop) (12.1.105)\n",
      "Requirement already satisfied: nvidia-nvjitlink-cu12 in /root/miniconda3/lib/python3.12/site-packages (from nvidia-cusolver-cu12==11.4.5.107->torch->thop) (12.5.40)\n",
      "Requirement already satisfied: MarkupSafe>=2.0 in /root/miniconda3/lib/python3.12/site-packages (from jinja2->torch->thop) (2.1.5)\n",
      "Requirement already satisfied: mpmath<1.4.0,>=1.1.0 in /root/miniconda3/lib/python3.12/site-packages (from sympy->torch->thop) (1.3.0)\n",
      "\u001b[33mWARNING: Running pip as the 'root' user can result in broken permissions and conflicting behaviour with the system package manager. It is recommended to use a virtual environment instead: https://pip.pypa.io/warnings/venv\u001b[0m\u001b[33m\n",
      "\u001b[0mNote: you may need to restart the kernel to use updated packages.\n"
     ]
    }
   ],
   "source": [
    "pip install thop"
   ]
  },
  {
   "cell_type": "code",
   "execution_count": 10,
   "id": "e42e2f50-251d-4362-8736-7a1b10063d51",
   "metadata": {},
   "outputs": [],
   "source": [
    "from thop import profile\n",
    "import torch"
   ]
  },
  {
   "cell_type": "code",
   "execution_count": 11,
   "id": "56f82b28-489e-42da-91c9-df243e459b21",
   "metadata": {},
   "outputs": [],
   "source": [
    "from ori_one2one_woaux_arch import One2One_noaux\n",
    "from fftchannel_one2one_woaux_arch import One2One_noaux_fftchannel\n",
    "from filtered_one2one_woaux_arch import One2One_noaux_flitered\n",
    "\n",
    "# from [file name] import [model name]\n",
    "\n"
   ]
  },
  {
   "cell_type": "code",
   "execution_count": 12,
   "id": "747f8ea8-87e9-4845-ad10-e37afe64f685",
   "metadata": {},
   "outputs": [
    {
     "name": "stdout",
     "output_type": "stream",
     "text": [
      "[INFO] Register count_convNd() for <class 'torch.nn.modules.conv.Conv2d'>.\n",
      "[INFO] Register zero_ops() for <class 'torch.nn.modules.activation.ReLU'>.\n",
      "[INFO] Register zero_ops() for <class 'torch.nn.modules.container.Sequential'>.\n",
      "[INFO] Register count_adap_avgpool() for <class 'torch.nn.modules.pooling.AdaptiveAvgPool2d'>.\n",
      "FLOPs = 53.887514976G\n",
      "Params = 0.606993M\n"
     ]
    }
   ],
   "source": [
    "\n",
    "model = One2One_noaux().cuda()\n",
    "x = torch.randn( 1, 3, 1024, 1024).cuda()\n",
    "flops, params = profile(model, inputs=((x,), None))\n",
    "print('FLOPs = ' + str(flops/1000**3) + 'G')\n",
    "print('Params = ' + str(params/1000**2) + 'M')"
   ]
  },
  {
   "cell_type": "code",
   "execution_count": 14,
   "id": "64f5aebf-6996-4b4b-9ac1-aa4b6546dc2a",
   "metadata": {},
   "outputs": [
    {
     "name": "stdout",
     "output_type": "stream",
     "text": [
      "[INFO] Register count_convNd() for <class 'torch.nn.modules.conv.Conv2d'>.\n",
      "[INFO] Register zero_ops() for <class 'torch.nn.modules.activation.ReLU'>.\n",
      "[INFO] Register zero_ops() for <class 'torch.nn.modules.container.Sequential'>.\n",
      "[INFO] Register count_adap_avgpool() for <class 'torch.nn.modules.pooling.AdaptiveAvgPool2d'>.\n",
      "FLOPs = 53.929982304G\n",
      "Params = 0.607641M\n"
     ]
    }
   ],
   "source": [
    "model = One2One_noaux_fftchannel().cuda()\n",
    "x = torch.randn( 1, 3, 1024, 1024).cuda()\n",
    "flops, params = profile(model, inputs=((x,), None))\n",
    "print('FLOPs = ' + str(flops/1000**3) + 'G')\n",
    "print('Params = ' + str(params/1000**2) + 'M')"
   ]
  },
  {
   "cell_type": "code",
   "execution_count": 15,
   "id": "15b7e880-a28f-46c1-bc76-671d4ed94773",
   "metadata": {},
   "outputs": [
    {
     "name": "stdout",
     "output_type": "stream",
     "text": [
      "[INFO] Register count_convNd() for <class 'torch.nn.modules.conv.Conv2d'>.\n",
      "[INFO] Register zero_ops() for <class 'torch.nn.modules.activation.ReLU'>.\n",
      "[INFO] Register zero_ops() for <class 'torch.nn.modules.container.Sequential'>.\n",
      "[INFO] Register count_adap_avgpool() for <class 'torch.nn.modules.pooling.AdaptiveAvgPool2d'>.\n",
      "FLOPs = 53.929982304G\n",
      "Params = 0.607641M\n"
     ]
    }
   ],
   "source": [
    "model = One2One_noaux_flitered().cuda()\n",
    "x = torch.randn( 1, 3, 1024, 1024).cuda()\n",
    "flops, params = profile(model, inputs=((x,), None))\n",
    "print('FLOPs = ' + str(flops/1000**3) + 'G')\n",
    "print('Params = ' + str(params/1000**2) + 'M')"
   ]
  },
  {
   "cell_type": "code",
   "execution_count": null,
   "id": "ade3b942-c1ee-4abf-a1a3-4468785c62e9",
   "metadata": {},
   "outputs": [],
   "source": []
  },
  {
   "cell_type": "code",
   "execution_count": null,
   "id": "0324d6f0-430e-40d2-a1d7-484c789f40eb",
   "metadata": {},
   "outputs": [],
   "source": [
    "# model = [model name]().cuda()\n",
    "# x = torch.randn( 1, 3, 1024, 1024).cuda()\n",
    "# flops, params = profile(model, inputs=((x,), None))\n",
    "# print('FLOPs = ' + str(flops/1000**3) + 'G')\n",
    "# print('Params = ' + str(params/1000**2) + 'M')"
   ]
  }
 ],
 "metadata": {
  "kernelspec": {
   "display_name": "Python 3 (ipykernel)",
   "language": "python",
   "name": "python3"
  },
  "language_info": {
   "codemirror_mode": {
    "name": "ipython",
    "version": 3
   },
   "file_extension": ".py",
   "mimetype": "text/x-python",
   "name": "python",
   "nbconvert_exporter": "python",
   "pygments_lexer": "ipython3",
   "version": "3.12.3"
  }
 },
 "nbformat": 4,
 "nbformat_minor": 5
}
